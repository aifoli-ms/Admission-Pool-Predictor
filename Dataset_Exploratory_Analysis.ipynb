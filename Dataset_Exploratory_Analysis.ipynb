{
 "cells": [
  {
   "cell_type": "markdown",
   "metadata": {},
   "source": [
    "# Dataset Exploration"
   ]
  },
  {
   "cell_type": "markdown",
   "metadata": {},
   "source": [
    "Dependency Installation"
   ]
  },
  {
   "cell_type": "code",
   "execution_count": null,
   "metadata": {},
   "outputs": [],
   "source": [
    "%pip install pandas matplotlib seaborn scikit-learn"
   ]
  },
  {
   "cell_type": "code",
   "execution_count": null,
   "metadata": {},
   "outputs": [],
   "source": [
    "%pip install pandas"
   ]
  },
  {
   "cell_type": "code",
   "execution_count": null,
   "metadata": {
    "id": "zcaeO1pjstTk",
    "jupyter": {
     "is_executing": true
    }
   },
   "outputs": [],
   "source": [
    "import pandas as pd\n",
    "import matplotlib.pyplot as plt\n",
    "import seaborn as sns\n"
   ]
  },
  {
   "cell_type": "markdown",
   "metadata": {},
   "source": [
    "## Dataset Overview"
   ]
  },
  {
   "cell_type": "markdown",
   "metadata": {},
   "source": [
    "### Statistical Summary of Entire Dataset"
   ]
  },
  {
   "cell_type": "code",
   "execution_count": null,
   "metadata": {
    "colab": {
     "base_uri": "https://localhost:8080/",
     "height": 204
    },
    "id": "tmam7nI3svEX",
    "jupyter": {
     "is_executing": true
    },
    "outputId": "45a9bb8b-0524-411c-fc3c-35e4ceb297fa"
   },
   "outputs": [],
   "source": [
    "df = pd.read_csv(\"Dataset/MBA.csv\")\n",
    "df.head()"
   ]
  },
  {
   "cell_type": "code",
   "execution_count": null,
   "metadata": {
    "colab": {
     "base_uri": "https://localhost:8080/",
     "height": 620
    },
    "id": "Hol3O7xrtMFS",
    "jupyter": {
     "is_executing": true
    },
    "outputId": "90527e4e-5162-4eb1-8c42-23e8b4468947"
   },
   "outputs": [],
   "source": [
    "print(\"Shape:\", df.shape)\n",
    "df.info() #ChatGPT\n",
    "\n",
    "print(\"Statistical summary\")\n",
    "df.describe()  "
   ]
  },
  {
   "cell_type": "markdown",
   "metadata": {},
   "source": [
    "### Statistical Summary of Individual Features"
   ]
  },
  {
   "cell_type": "code",
   "execution_count": null,
   "metadata": {},
   "outputs": [],
   "source": [
    "# gender,international,gpa,major,race,gmat,work_exp,work_industry,admission"
   ]
  },
  {
   "cell_type": "markdown",
   "metadata": {},
   "source": [
    "#### Summary of Gender"
   ]
  },
  {
   "cell_type": "code",
   "execution_count": null,
   "metadata": {},
   "outputs": [],
   "source": [
    "print(\"Counts\")\n",
    "individual_counts = df[\"gender\"].value_counts()\n",
    "print(individual_counts)\n",
    "\n",
    "print(\" \\nProportion\")\n",
    "prop = df[\"gender\"].value_counts(normalize=True)\n",
    "print(prop)"
   ]
  },
  {
   "cell_type": "markdown",
   "metadata": {},
   "source": [
    "#### Summary for international feature"
   ]
  },
  {
   "cell_type": "code",
   "execution_count": null,
   "metadata": {},
   "outputs": [],
   "source": [
    "print(\"Counts\")\n",
    "individual_counts = df[\"international\"].value_counts()\n",
    "print(individual_counts)\n",
    "\n",
    "print(\" \\nProportion\")\n",
    "prop = df[\"international\"].value_counts(normalize=True)\n",
    "print(prop)"
   ]
  },
  {
   "cell_type": "markdown",
   "metadata": {},
   "source": [
    "#### Summary for GPA\n"
   ]
  },
  {
   "cell_type": "code",
   "execution_count": null,
   "metadata": {},
   "outputs": [],
   "source": [
    "df[\"gpa\"].describe()"
   ]
  },
  {
   "cell_type": "markdown",
   "metadata": {},
   "source": [
    "#### Summary for Majors"
   ]
  },
  {
   "cell_type": "code",
   "execution_count": null,
   "metadata": {},
   "outputs": [],
   "source": [
    "print(\"Counts\")\n",
    "individual_counts = df[\"major\"].value_counts()\n",
    "print(individual_counts)\n",
    "\n",
    "print(\" \\nProportion\")\n",
    "prop = df[\"major\"].value_counts(normalize=True)\n",
    "print(prop)"
   ]
  },
  {
   "cell_type": "markdown",
   "metadata": {},
   "source": [
    "#### Race"
   ]
  },
  {
   "cell_type": "code",
   "execution_count": null,
   "metadata": {},
   "outputs": [],
   "source": [
    "print(\"Counts\")\n",
    "individual_counts = df[\"race\"].value_counts()\n",
    "print(individual_counts)\n",
    "\n",
    "print(\" \\nProportion\")\n",
    "prop = df[\"race\"].value_counts(normalize=True)\n",
    "print(prop)"
   ]
  },
  {
   "cell_type": "markdown",
   "metadata": {},
   "source": [
    "#### GMAT Score"
   ]
  },
  {
   "cell_type": "code",
   "execution_count": null,
   "metadata": {},
   "outputs": [],
   "source": [
    "df[\"gmat\"].describe()\n"
   ]
  },
  {
   "cell_type": "markdown",
   "metadata": {},
   "source": [
    "#### Work experience"
   ]
  },
  {
   "cell_type": "code",
   "execution_count": null,
   "metadata": {},
   "outputs": [],
   "source": [
    "df[\"work_exp\"].describe()\n"
   ]
  },
  {
   "cell_type": "markdown",
   "metadata": {},
   "source": [
    "#### Work Industry"
   ]
  },
  {
   "cell_type": "code",
   "execution_count": null,
   "metadata": {},
   "outputs": [],
   "source": [
    "print(\"Counts\")\n",
    "individual_counts = df[\"work_industry\"].value_counts()\n",
    "print(individual_counts)\n",
    "\n",
    "print(\" \\nProportion\")\n",
    "prop = df[\"work_industry\"].value_counts(normalize=True)\n",
    "print(prop)"
   ]
  },
  {
   "cell_type": "markdown",
   "metadata": {},
   "source": []
  },
  {
   "cell_type": "markdown",
   "metadata": {},
   "source": [
    "## Data Visualization"
   ]
  },
  {
   "cell_type": "markdown",
   "metadata": {},
   "source": [
    "### Univariate Graphs"
   ]
  },
  {
   "cell_type": "code",
   "execution_count": null,
   "metadata": {
    "colab": {
     "base_uri": "https://localhost:8080/",
     "height": 551
    },
    "id": "7y9tA7NmtQHN",
    "jupyter": {
     "is_executing": true
    },
    "outputId": "51eccdac-6c96-4a7d-adca-38bcc44e13f8"
   },
   "outputs": [],
   "source": [
    "df.isnull().sum()\n",
    "sns.heatmap(df.isnull(), cbar=False, cmap=\"viridis\") #ChatGPT"
   ]
  },
  {
   "cell_type": "markdown",
   "metadata": {
    "id": "R0EyKCwLtjK6"
   },
   "source": [
    "Yellow represents null values\n",
    "\n",
    "purple represents actual values"
   ]
  },
  {
   "cell_type": "markdown",
   "metadata": {
    "id": "mPrWetKwtzaJ"
   },
   "source": [
    "From the above diagram we can see the admission attribute has a lot of missing data whilst the race column has some missing data. In the description of the dataset from kaggle it was stated that in the admission column null represents Deny or Rejected and in the race colum null represents an international student\n"
   ]
  },
  {
   "cell_type": "code",
   "execution_count": null,
   "metadata": {
    "colab": {
     "base_uri": "https://localhost:8080/",
     "height": 480
    },
    "id": "kBGY155SuPTZ",
    "jupyter": {
     "is_executing": true
    },
    "outputId": "ca014bf0-ee7f-4398-cf2d-964655c9b8cc"
   },
   "outputs": [],
   "source": [
    "# Example for gender\n",
    "sns.countplot(x='gender', data=df)\n",
    "plt.title('Gender Distribution')\n",
    "plt.show()"
   ]
  },
  {
   "cell_type": "code",
   "execution_count": null,
   "metadata": {
    "colab": {
     "base_uri": "https://localhost:8080/",
     "height": 480
    },
    "id": "qJ5adridv78C",
    "jupyter": {
     "is_executing": true
    },
    "outputId": "6c841f8c-8305-479c-9a39-8a2399ba1b74"
   },
   "outputs": [],
   "source": [
    "sns.countplot(x='international', data=df)\n",
    "plt.title('International Distribution')\n",
    "plt.show()"
   ]
  },
  {
   "cell_type": "code",
   "execution_count": null,
   "metadata": {
    "colab": {
     "base_uri": "https://localhost:8080/",
     "height": 480
    },
    "id": "Qy7NxKBQwE5M",
    "jupyter": {
     "is_executing": true
    },
    "outputId": "abbc3bd0-cb6b-4f47-9a75-e3bc8366234b"
   },
   "outputs": [],
   "source": [
    "sns.countplot(x='major', data=df)\n",
    "plt.title('Major Distribution')\n",
    "plt.show()"
   ]
  },
  {
   "cell_type": "code",
   "execution_count": null,
   "metadata": {
    "colab": {
     "base_uri": "https://localhost:8080/",
     "height": 480
    },
    "id": "uMtM_yoKwuoS",
    "jupyter": {
     "is_executing": true
    },
    "outputId": "37978062-c0cf-4376-fd7f-dfb1e591ccc3"
   },
   "outputs": [],
   "source": [
    "sns.countplot(x='race', data=df)\n",
    "plt.title('Distribution of Race')\n",
    "plt.show()"
   ]
  },
  {
   "cell_type": "code",
   "execution_count": null,
   "metadata": {
    "id": "fAGMNYMUxiWf",
    "jupyter": {
     "is_executing": true
    }
   },
   "outputs": [],
   "source": [
    "df['admission'] = df['admission'].fillna('Rejected')"
   ]
  },
  {
   "cell_type": "code",
   "execution_count": null,
   "metadata": {
    "colab": {
     "base_uri": "https://localhost:8080/",
     "height": 480
    },
    "id": "uUBOdQD4xkgr",
    "jupyter": {
     "is_executing": true
    },
    "outputId": "798566a1-fe2f-4f7d-a5dc-1468d0047546"
   },
   "outputs": [],
   "source": [
    "sns.countplot(x='admission', data=df)\n",
    "plt.title('Distribution of Admission')\n",
    "plt.show()"
   ]
  },
  {
   "cell_type": "code",
   "execution_count": null,
   "metadata": {},
   "outputs": [],
   "source": [
    "\n",
    "df['race'] = df['race'].fillna('International')\n",
    "\n",
    "df['race'] = df['race'].replace('Other', 'International')\n"
   ]
  },
  {
   "cell_type": "code",
   "execution_count": null,
   "metadata": {},
   "outputs": [],
   "source": [
    "sns.countplot(x='race', data=df)\n",
    "plt.title('Distribution of Race')\n",
    "plt.show()\n"
   ]
  },
  {
   "cell_type": "code",
   "execution_count": null,
   "metadata": {},
   "outputs": [],
   "source": [
    "# Step 1: Get value counts\n",
    "industry_counts = df['work_industry'].value_counts()\n",
    "\n",
    "# Step 2: Identify industries with less than 200 entries\n",
    "to_combine = industry_counts[industry_counts < 200].index\n",
    "\n",
    "# Step 3: Replace them with 'Other'\n",
    "df['work_industry'] = df['work_industry'].replace(to_combine, 'Other') #ChatGPT\n"
   ]
  },
  {
   "cell_type": "code",
   "execution_count": null,
   "metadata": {},
   "outputs": [],
   "source": [
    "plt.figure(figsize=(12, 6))\n",
    "ax = sns.countplot(x='work_industry', data=df)\n",
    "plt.title('Distribution of Various Work Industries (Grouped Low Frequencies as Other)')\n",
    "\n",
    "plt.xticks(rotation=65)\n",
    "plt.tight_layout()\n",
    "plt.show()\n"
   ]
  },
  {
   "cell_type": "code",
   "execution_count": null,
   "metadata": {},
   "outputs": [],
   "source": [
    "# GPA Histogram\n",
    "sns.histplot(df['gpa'], kde=True)\n",
    "plt.title('GPA Distribution')\n",
    "plt.show()"
   ]
  },
  {
   "cell_type": "code",
   "execution_count": null,
   "metadata": {},
   "outputs": [],
   "source": [
    "# GPA Histogram\n",
    "sns.histplot(df['gmat'])\n",
    "plt.title('GMAT Distribution')\n",
    "plt.show()"
   ]
  },
  {
   "cell_type": "code",
   "execution_count": null,
   "metadata": {},
   "outputs": [],
   "source": [
    "# GPA Histogram\n",
    "sns.histplot(df['work_exp'])\n",
    "plt.title('Work Experience Distribution')\n",
    "plt.show()"
   ]
  },
  {
   "cell_type": "code",
   "execution_count": null,
   "metadata": {},
   "outputs": [],
   "source": [
    "sns.boxplot(x=df['gpa'])\n",
    "plt.title('GPA Boxplot')\n",
    "plt.show()"
   ]
  },
  {
   "cell_type": "code",
   "execution_count": null,
   "metadata": {},
   "outputs": [],
   "source": [
    "\n",
    "admitted_df = df[df['admission'].isin(['Admit', 'Waitlist'])]\n",
    "\n",
    "admitted_df = admitted_df.reset_index(drop=True)\n",
    "#ChatGPT\n"
   ]
  },
  {
   "cell_type": "code",
   "execution_count": null,
   "metadata": {},
   "outputs": [],
   "source": [
    "\n",
    "admitted_df.to_csv('admitted_or_waitlist.csv', index=False)\n"
   ]
  },
  {
   "cell_type": "code",
   "execution_count": null,
   "metadata": {},
   "outputs": [],
   "source": [
    "print(df.duplicated().sum())"
   ]
  },
  {
   "cell_type": "markdown",
   "metadata": {},
   "source": [
    "### Bivariate Graphs"
   ]
  },
  {
   "cell_type": "markdown",
   "metadata": {},
   "source": [
    "# Data Pre-processing"
   ]
  },
  {
   "cell_type": "markdown",
   "metadata": {},
   "source": [
    "## Dataset Split\n"
   ]
  },
  {
   "cell_type": "code",
   "execution_count": null,
   "metadata": {},
   "outputs": [],
   "source": [
    "from sklearn.model_selection import train_test_split\n",
    "\n",
    "X = df.drop('admission', axis=1)\n",
    "y = df['admission']\n",
    "\n",
    "X_train_universe, X_test, y_train_universe, y_test = train_test_split(X, y, test_size=0.1, random_state=10,stratify=y)#Chatgpt\n",
    "\n",
    "X_train_set, X_validation_set, Y_train_set, Y_validation_set = train_test_split(X_train_universe, y_train_universe, test_size=0.1, random_state=10,stratify=y_train_universe)\n"
   ]
  },
  {
   "cell_type": "code",
   "execution_count": null,
   "metadata": {},
   "outputs": [],
   "source": [
    "print(\"Shape of Test Set:\", X_test.shape)\n",
    "df.info()\n",
    "\n",
    "print(\"Shape of Validation Set:\", X_validation_set.shape)\n",
    "df.info()\n",
    "\n",
    "print(\"Shape of Training Set:\", X_train_set.shape)\n",
    "df.info()"
   ]
  },
  {
   "cell_type": "markdown",
   "metadata": {},
   "source": []
  },
  {
   "cell_type": "markdown",
   "metadata": {},
   "source": [
    "## Normalization"
   ]
  },
  {
   "cell_type": "code",
   "execution_count": null,
   "metadata": {},
   "outputs": [],
   "source": [
    "normalized_df = df.copy() \n",
    "\n",
    "# Z- Score Normalization\n",
    "\n",
    "\n",
    "# Selecting only the quantitative columns for the Z-score normalization\n",
    "columns_to_be_normalized = ['gpa', 'gmat', 'work_exp']\n",
    "  \n",
    "\n",
    "for column in columns_to_be_normalized: \n",
    "    normalized_df[column] = (normalized_df[column] - normalized_df[column].mean()) / normalized_df[column].std()\n",
    "\n",
    "normalized_df.head()\n",
    "\n",
    "\n",
    "# One Hot Encoding\n",
    "\n",
    "categorical_columns = ['gender', 'international', 'major', 'race', 'work_industry']\n",
    "\n",
    "\n",
    "# This dictionary stores the names of each categorical columns as a key and assigns a list of all unique responses as a value\n",
    "unique_values_dict = {}\n",
    "\n",
    "for col in categorical_columns:\n",
    "    unique_values_dict[col] = df[col].unique()\n",
    "\n",
    "\n",
    "for col, unique_values in unique_values_dict.items():\n",
    "    for val in unique_values:\n",
    "        new_col_name = f\"{col}{str(val).replace('/', '').replace(' ', '_')}\"\n",
    "\n",
    "        df[new_col_name] = (df[col] == val).astype(int)\n",
    "\n",
    "# After the one-hot encoding clearing the initial categorical columns from the dataset\n",
    "df.drop(columns=categorical_columns, inplace=True)\n",
    "\n",
    "\n",
    "print(df.head())\n"
   ]
  }
 ],
 "metadata": {
  "colab": {
   "provenance": []
  },
  "kernelspec": {
   "display_name": "Python 3",
   "name": "python3"
  },
  "language_info": {
   "codemirror_mode": {
    "name": "ipython",
    "version": 3
   },
   "file_extension": ".py",
   "mimetype": "text/x-python",
   "name": "python",
   "nbconvert_exporter": "python",
   "pygments_lexer": "ipython3",
   "version": "3.11.9"
  }
 },
 "nbformat": 4,
 "nbformat_minor": 0
}
